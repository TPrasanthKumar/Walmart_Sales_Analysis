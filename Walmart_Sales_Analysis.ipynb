{
 "cells": [
  {
   "cell_type": "code",
   "execution_count": 1,
   "id": "a41bbf76-eff1-4d3f-9bea-d483bf7ce20c",
   "metadata": {},
   "outputs": [
    {
     "name": "stdout",
     "output_type": "stream",
     "text": [
      "Initial Dataset Preview:\n",
      "   Store        Date  Weekly_Sales  Holiday_Flag  Temperature  Fuel_Price  \\\n",
      "0      1  05-02-2010    1643690.90             0        42.31       2.572   \n",
      "1      1  12-02-2010    1641957.44             1        38.51       2.548   \n",
      "2      1  19-02-2010    1611968.17             0        39.93       2.514   \n",
      "3      1  26-02-2010    1409727.59             0        46.63       2.561   \n",
      "4      1  05-03-2010    1554806.68             0        46.50       2.625   \n",
      "\n",
      "          CPI  Unemployment  \n",
      "0  211.096358         8.106  \n",
      "1  211.242170         8.106  \n",
      "2  211.289143         8.106  \n",
      "3  211.319643         8.106  \n",
      "4  211.350143         8.106  \n",
      "\n",
      "Dataset Info:\n",
      "<class 'pandas.core.frame.DataFrame'>\n",
      "RangeIndex: 6435 entries, 0 to 6434\n",
      "Data columns (total 8 columns):\n",
      " #   Column        Non-Null Count  Dtype  \n",
      "---  ------        --------------  -----  \n",
      " 0   Store         6435 non-null   int64  \n",
      " 1   Date          6435 non-null   object \n",
      " 2   Weekly_Sales  6435 non-null   float64\n",
      " 3   Holiday_Flag  6435 non-null   int64  \n",
      " 4   Temperature   6435 non-null   float64\n",
      " 5   Fuel_Price    6435 non-null   float64\n",
      " 6   CPI           6435 non-null   float64\n",
      " 7   Unemployment  6435 non-null   float64\n",
      "dtypes: float64(5), int64(2), object(1)\n",
      "memory usage: 402.3+ KB\n",
      "None\n"
     ]
    }
   ],
   "source": [
    "import pandas as pd\n",
    "\n",
    "# Load the dataset\n",
    "df = pd.read_csv('Walmart_Sales.csv')\n",
    "\n",
    "# Display the first few rows to understand the data\n",
    "print(\"Initial Dataset Preview:\")\n",
    "print(df.head())\n",
    "\n",
    "# Display basic information about the dataset\n",
    "print(\"\\nDataset Info:\")\n",
    "print(df.info())"
   ]
  },
  {
   "cell_type": "code",
   "execution_count": 3,
   "id": "8ef6b99e-6b29-4bf8-87e6-e4ccce7bea1a",
   "metadata": {},
   "outputs": [
    {
     "name": "stdout",
     "output_type": "stream",
     "text": [
      "\n",
      "Missing Values:\n",
      "Store           0\n",
      "Date            0\n",
      "Weekly_Sales    0\n",
      "Holiday_Flag    0\n",
      "Temperature     0\n",
      "Fuel_Price      0\n",
      "CPI             0\n",
      "Unemployment    0\n",
      "dtype: int64\n"
     ]
    }
   ],
   "source": [
    "# Check for missing values\n",
    "print(\"\\nMissing Values:\")\n",
    "print(df.isnull().sum())"
   ]
  },
  {
   "cell_type": "code",
   "execution_count": 5,
   "id": "07b5c6c7-f30d-4675-a533-85e5e28a63da",
   "metadata": {},
   "outputs": [
    {
     "name": "stdout",
     "output_type": "stream",
     "text": [
      "\n",
      "Number of Duplicate Rows: 0\n",
      "Number of Duplicate Rows After Removal: 0\n"
     ]
    }
   ],
   "source": [
    "# Check for duplicate rows\n",
    "print(\"\\nNumber of Duplicate Rows:\", df.duplicated().sum())\n",
    "\n",
    "# Remove duplicates if any\n",
    "df = df.drop_duplicates()\n",
    "\n",
    "# Confirm duplicates are removed\n",
    "print(\"Number of Duplicate Rows After Removal:\", df.duplicated().sum())"
   ]
  },
  {
   "cell_type": "code",
   "execution_count": 7,
   "id": "ec1d3ae2-6b5d-40ee-8370-45e8d2ff26f0",
   "metadata": {},
   "outputs": [
    {
     "name": "stdout",
     "output_type": "stream",
     "text": [
      "\n",
      "Updated Column Names:\n",
      "Index(['store', 'date', 'weekly_sales', 'holiday_flag', 'temperature',\n",
      "       'fuel_price', 'cpi', 'unemployment'],\n",
      "      dtype='object')\n"
     ]
    }
   ],
   "source": [
    "# Rename columns to lowercase and replace spaces with underscores\n",
    "df.columns = df.columns.str.lower().str.replace(' ', '_')\n",
    "\n",
    "# Verify new column names\n",
    "print(\"\\nUpdated Column Names:\")\n",
    "print(df.columns)"
   ]
  },
  {
   "cell_type": "code",
   "execution_count": 9,
   "id": "c79436eb-1c5a-43a7-b93a-d1bc3fb146e7",
   "metadata": {},
   "outputs": [
    {
     "name": "stdout",
     "output_type": "stream",
     "text": [
      "\n",
      "Date Column Data Type:\n",
      "datetime64[ns]\n",
      "\n",
      "Sample Dates:\n",
      "0   2010-02-05\n",
      "1   2010-02-12\n",
      "2   2010-02-19\n",
      "3   2010-02-26\n",
      "4   2010-03-05\n",
      "Name: date, dtype: datetime64[ns]\n"
     ]
    }
   ],
   "source": [
    "# Convert 'date' column to datetime format\n",
    "df['date'] = pd.to_datetime(df['date'], format='%d-%m-%Y')\n",
    "\n",
    "# Verify date conversion\n",
    "print(\"\\nDate Column Data Type:\")\n",
    "print(df['date'].dtype)\n",
    "print(\"\\nSample Dates:\")\n",
    "print(df['date'].head())"
   ]
  },
  {
   "cell_type": "code",
   "execution_count": 11,
   "id": "be58398d-3409-4fae-9e06-a3669e43823f",
   "metadata": {},
   "outputs": [
    {
     "name": "stdout",
     "output_type": "stream",
     "text": [
      "\n",
      "Current Data Types:\n",
      "store                    int64\n",
      "date            datetime64[ns]\n",
      "weekly_sales           float64\n",
      "holiday_flag             int64\n",
      "temperature            float64\n",
      "fuel_price             float64\n",
      "cpi                    float64\n",
      "unemployment           float64\n",
      "dtype: object\n",
      "\n",
      "Updated Data Types:\n",
      "store                 category\n",
      "date            datetime64[ns]\n",
      "weekly_sales           float64\n",
      "holiday_flag          category\n",
      "temperature            float64\n",
      "fuel_price             float64\n",
      "cpi                    float64\n",
      "unemployment           float64\n",
      "dtype: object\n"
     ]
    }
   ],
   "source": [
    "# Check current data types\n",
    "print(\"\\nCurrent Data Types:\")\n",
    "print(df.dtypes)\n",
    "\n",
    "# Ensure 'store' and 'holiday_flag' are categorical (since they are discrete)\n",
    "df['store'] = df['store'].astype('category')\n",
    "df['holiday_flag'] = df['holiday_flag'].astype('category')\n",
    "\n",
    "# Verify updated data types\n",
    "print(\"\\nUpdated Data Types:\")\n",
    "print(df.dtypes)"
   ]
  },
  {
   "cell_type": "code",
   "execution_count": 13,
   "id": "46c13634-6c56-4a8a-95c1-c457b863d226",
   "metadata": {},
   "outputs": [
    {
     "name": "stdout",
     "output_type": "stream",
     "text": [
      "\n",
      "Summary Statistics for Numerical Columns:\n",
      "       weekly_sales  temperature   fuel_price          cpi  unemployment\n",
      "count  6.435000e+03  6435.000000  6435.000000  6435.000000   6435.000000\n",
      "mean   1.046965e+06    60.663782     3.358607   171.578394      7.999151\n",
      "std    5.643666e+05    18.444933     0.459020    39.356712      1.875885\n",
      "min    2.099862e+05    -2.060000     2.472000   126.064000      3.879000\n",
      "25%    5.533501e+05    47.460000     2.933000   131.735000      6.891000\n",
      "50%    9.607460e+05    62.670000     3.445000   182.616521      7.874000\n",
      "75%    1.420159e+06    74.940000     3.735000   212.743293      8.622000\n",
      "max    3.818686e+06   100.140000     4.468000   227.232807     14.313000\n",
      "\n",
      "Unique Values in 'store': 45\n",
      "Unique Values in 'holiday_flag': [0, 1]\n",
      "Categories (2, int64): [0, 1]\n"
     ]
    }
   ],
   "source": [
    "# Summary statistics for numerical columns\n",
    "print(\"\\nSummary Statistics for Numerical Columns:\")\n",
    "print(df.describe())\n",
    "\n",
    "# Check unique values for categorical columns\n",
    "print(\"\\nUnique Values in 'store':\", df['store'].nunique())\n",
    "print(\"Unique Values in 'holiday_flag':\", df['holiday_flag'].unique())"
   ]
  },
  {
   "cell_type": "code",
   "execution_count": 15,
   "id": "d2e2996c-b689-48c8-b378-e4e3aba1fb5a",
   "metadata": {},
   "outputs": [
    {
     "name": "stdout",
     "output_type": "stream",
     "text": [
      "\n",
      "Cleaned dataset saved as 'Walmart_Sales_Cleaned.csv'\n"
     ]
    }
   ],
   "source": [
    "# Save the cleaned dataset\n",
    "df.to_csv('Walmart_Sales_Cleaned.csv', index=False)\n",
    "print(\"\\nCleaned dataset saved as 'Walmart_Sales_Cleaned.csv'\")"
   ]
  },
  {
   "cell_type": "code",
   "execution_count": null,
   "id": "4524796c-47a3-4907-a9b5-d7d2e0a7aaa8",
   "metadata": {},
   "outputs": [],
   "source": []
  }
 ],
 "metadata": {
  "kernelspec": {
   "display_name": "Python [conda env:base] *",
   "language": "python",
   "name": "conda-base-py"
  },
  "language_info": {
   "codemirror_mode": {
    "name": "ipython",
    "version": 3
   },
   "file_extension": ".py",
   "mimetype": "text/x-python",
   "name": "python",
   "nbconvert_exporter": "python",
   "pygments_lexer": "ipython3",
   "version": "3.10.9"
  }
 },
 "nbformat": 4,
 "nbformat_minor": 5
}
